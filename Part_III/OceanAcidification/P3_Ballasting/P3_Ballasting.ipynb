{
 "cells": [
  {
   "cell_type": "markdown",
   "id": "fda5db60-c2e3-47fc-a34a-46ced905f5c5",
   "metadata": {},
   "source": [
    "# Particle Sinking Model "
   ]
  },
  {
   "cell_type": "code",
   "execution_count": null,
   "id": "e6af4fac-c2ca-41c7-b0e5-eabab772eb4d",
   "metadata": {},
   "outputs": [],
   "source": [
    "from ballasting import model, plot\n",
    "\n",
    "bottom_depth = 3000  # m"
   ]
  },
  {
   "cell_type": "markdown",
   "id": "6164e7c9-41bf-4361-9309-30cd3b572356",
   "metadata": {},
   "source": [
    "## End-Members: POC or PIC only"
   ]
  },
  {
   "cell_type": "code",
   "execution_count": null,
   "id": "8da2904b-e579-4276-a2a6-ea13c64cf99e",
   "metadata": {},
   "outputs": [],
   "source": [
    "mPOC = model.sinking_particles(N=1, tmax_days=10, PIC_POC=0)\n",
    "mPIC = model.sinking_particles(N=1, PIC_POC=1e6)\n",
    "\n",
    "plot.models([mPOC, mPIC], bottom_depth=bottom_depth, model_labels=['POC', 'PIC']);\n",
    "\n",
    "# particulate carbon remaining at 2000m in umol kgSW-1\n",
    "print('POC only')\n",
    "zs = model.depth_slice(bottom_depth, mPOC)\n",
    "print(zs['POC'], zs['PIC'])\n",
    "\n",
    "print('PIC only')\n",
    "zs = model.depth_slice(bottom_depth, mPIC)\n",
    "print(zs['POC'], zs['PIC']) "
   ]
  },
  {
   "cell_type": "markdown",
   "id": "64046bc0-d788-4221-9a8f-46e9bf2a5ee2",
   "metadata": {},
   "source": [
    "## Influence of PIC:POC ratio\n",
    "\n",
    "Here, we'll run three models varying the PIC:POC ratio of the particles (0.01, 0.1 and 0.2).\n",
    "\n",
    "Before you run the cell below, think about:\n",
    "- How would you expect the sinking speed of particles to change as you add CaCO3?\n",
    "- Which scenario will export the most organic carbon to the sea bed?"
   ]
  },
  {
   "cell_type": "code",
   "execution_count": null,
   "id": "063ad178-04fb-498f-a9ab-22d75f131c78",
   "metadata": {},
   "outputs": [],
   "source": [
    "var = [0.05, 0.1, 0.2]  # PIC:POC ratios to use\n",
    "models = [model.sinking_particles(PIC_POC=v, tsteps=1200) for v in var]\n",
    "plot.models(models, model_labels=var, bottom_depth=bottom_depth)\n",
    "\n",
    "# calculate particles reaching sea bed\n",
    "zs = model.depth_slice(bottom_depth, models)\n",
    "print('var', var)\n",
    "print('POC', zs['POC'])\n",
    "print('PIC', zs['PIC'])"
   ]
  },
  {
   "cell_type": "markdown",
   "id": "ed4fcb67-9f58-49ce-a2d2-c572ba7ea3f7",
   "metadata": {},
   "source": [
    "Now you've seen the zepth profiles, notice that the relationship betwen PIC:POC and POC export is not linear. Why? Can you see clues in the other profiles?\n",
    "\n",
    "## Feedbacks\n",
    "\n",
    "CaCO3 production won't be the only thing that changes in future. We can use this model to think about how other factors will alter the biological pump and ballasting.\n",
    "\n",
    "### Remineralisation Rate\n",
    "Increases in ocean temperature might increase remineralisation rate in future.\n",
    "\n",
    "- Will particles with a low or high remineralisation rate sink faster?\n",
    "- How would you expect increasing remineralisation rate (decreasing `p_lifetime`) to influence export?\n",
    "\n",
    "Modify the code below to change `p_lifetime` to 1, 2.5 and 5."
   ]
  },
  {
   "cell_type": "code",
   "execution_count": null,
   "id": "27050b81-5e6b-46d5-b26b-a4c676ca5f93",
   "metadata": {},
   "outputs": [],
   "source": [
    "var = [0.01, 0.1, 0.2]  # the values of the chosen variable that you want to use\n",
    "#      ^ change these values\n",
    "\n",
    "models = [model.sinking_particles(PIC_POC=v, tsteps=1200) for v in var]\n",
    "#                                 ^ change the name of the parameter you're varying\n",
    "\n",
    "plot.models(models, model_labels=var, bottom_depth=bottom_depth)\n",
    "\n",
    "# calculate particles reaching sea bed\n",
    "zs = model.depth_slice(bottom_depth, models)\n",
    "print('var', var)\n",
    "print('POC', zs['POC'])\n",
    "print('PIC', zs['PIC'])"
   ]
  },
  {
   "cell_type": "markdown",
   "id": "347f9f99-415a-4665-8720-49b421a68c2d",
   "metadata": {},
   "source": [
    "Did the patterns match what you were expecting? If not, why?"
   ]
  },
  {
   "cell_type": "markdown",
   "id": "f6ccb7ca-cc52-4576-a55b-d2f5d5f5beb4",
   "metadata": {},
   "source": [
    "### Mineralogy\n",
    "\n",
    "If the carbonate is high-Mg calcite, or a metastable phase such as amorphous calcium carbonate or vaterite, it will be more soluble.\n",
    "\n",
    "- How would increasing mineral solubility change export patterns?\n",
    "\n",
    "Evaluate this by modifying `f_solubility`.\n",
    "\n",
    "- At what solubility does export stop completely?"
   ]
  },
  {
   "cell_type": "code",
   "execution_count": null,
   "id": "92cf8d21-3c82-44ef-b768-ac86f789a383",
   "metadata": {},
   "outputs": [],
   "source": [
    "# put code here."
   ]
  }
 ],
 "metadata": {
  "kernelspec": {
   "display_name": "py3",
   "language": "python",
   "name": "py3"
  },
  "language_info": {
   "codemirror_mode": {
    "name": "ipython",
    "version": 3
   },
   "file_extension": ".py",
   "mimetype": "text/x-python",
   "name": "python",
   "nbconvert_exporter": "python",
   "pygments_lexer": "ipython3",
   "version": "3.9.9"
  }
 },
 "nbformat": 4,
 "nbformat_minor": 5
}
